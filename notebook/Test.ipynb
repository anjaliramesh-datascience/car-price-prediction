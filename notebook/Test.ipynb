{
 "cells": [
  {
   "cell_type": "code",
   "execution_count": 105,
   "id": "8e1110dd",
   "metadata": {
    "hideCode": false,
    "hidePrompt": false
   },
   "outputs": [],
   "source": [
    "# Import necessary libraries\n",
    "import pandas as pd\n",
    "import numpy as np\n",
    "\n",
    "# Load the original data\n",
    "original_data = pd.read_csv('data/car-price.csv')"
   ]
  },
  {
   "cell_type": "code",
   "execution_count": 106,
   "id": "701314a7",
   "metadata": {
    "hideCode": false,
    "hidePrompt": false
   },
   "outputs": [],
   "source": [
    "from sklearn.impute import SimpleImputer\n",
    "from sklearn.preprocessing import StandardScaler, OneHotEncoder\n",
    "from sklearn.compose import ColumnTransformer\n",
    "import pandas as pd\n",
    "import numpy as np\n",
    "\n",
    "def preprocess(data):\n",
    "    \n",
    "    # Remove 'Model' and 'ID' columns\n",
    "    data = data.drop(['Model', 'ID'], axis=1)\n",
    "    \n",
    "    # Replace '-' with NaN in 'Levy'\n",
    "    data['Levy'].replace('-', np.nan, inplace=True)\n",
    "    # Convert 'Levy' to numerical type\n",
    "    data['Levy'] = pd.to_numeric(data['Levy'])  \n",
    "    # Convert 'Mileage' to numerical type\n",
    "    if data['Mileage'].dtype == 'object':\n",
    "        data['Mileage'] = data['Mileage'].str.replace(' km', '')\n",
    "    data['Mileage'] = pd.to_numeric(data['Mileage']) \n",
    "    \n",
    "    outlier_columns = ['Price','Levy', 'Mileage']\n",
    "\n",
    "    # Remove outliers\n",
    "    for col in outlier_columns:\n",
    "        Q1 = data[col].quantile(0.25)\n",
    "        Q3 = data[col].quantile(0.75)\n",
    "        IQR = Q3 - Q1\n",
    "        lower_bound = Q1 - 1.5 * IQR\n",
    "        upper_bound = Q3 + 1.5 * IQR\n",
    "        data = data[(data[col] >= lower_bound) & (data[col] <= upper_bound)]\n",
    "\n",
    "\n",
    "    # Extract 'Turbo' information and convert 'Engine volume' to numerical type\n",
    "    data['Turbo'] = data['Engine volume'].apply(lambda x: 1 if isinstance(x, str) and 'Turbo' in x else 0)\n",
    "    if data['Engine volume'].dtype == 'object':\n",
    "        data['Engine volume'] = data['Engine volume'].str.replace(' Turbo', '')\n",
    "    data['Engine volume'] = pd.to_numeric(data['Engine volume'])\n",
    "    \n",
    "    # Leather interior convert to boolean\n",
    "    data['Leather interior'] = data['Leather interior'].map({'Yes': 1, 'No': 0})\n",
    "\n",
    "    # Map the 'Doors' column\n",
    "    doors_mapping = {\n",
    "        '04-May': '4-5',\n",
    "        '02-Mar': '2-3',\n",
    "        '>5': '>5'\n",
    "    }\n",
    "    data['Doors'] = data['Doors'].map(doors_mapping)\n",
    "        \n",
    "    top_manufacturers = data['Manufacturer'].value_counts().nlargest(10).index\n",
    "    data['Manufacturer'] = data['Manufacturer'].apply(lambda x: x if x in top_manufacturers else 'Other')\n",
    "    data['Manufacturer'] = data['Manufacturer'].str.title()\n",
    "    top_categories = data['Category'].value_counts().nlargest(5).index\n",
    "    data['Category'] = data['Category'].apply(lambda x: x if x in top_categories else 'Other')\n",
    "    top_colors = data['Color'].value_counts().nlargest(5).index\n",
    "    data['Color'] = data['Color'].apply(lambda x: x if x in top_colors else 'Other')\n",
    "    top_fuel_types = data['Fuel type'].value_counts().nlargest(3).index\n",
    "    data.loc[~data['Fuel type'].isin(top_fuel_types), 'Fuel type'] = 'Other'\n",
    "    \n",
    "    # Get a list of all column names\n",
    "#     cols = list(data.columns)\n",
    "#     cols.remove('Price')\n",
    "#     cols.append('Price')\n",
    "#     data = data[cols]\n",
    "    \n",
    "#     rename_cols = {\"Levy\":\"levy\", \"Manufacturer\": \"manufacturer\",  'Prod. year': \"year\", \n",
    "#               'Category': 'category', 'Leather interior': \"leather_interior\",'Fuel type':'fuel_type',\n",
    "#               'Engine volume':'engine_volume', 'Mileage': 'mileage', 'Cylinders': 'cylinders',\n",
    "#               'Gear box type': 'gear_box_type', 'Drive wheels':'drive_wheels', 'Doors':'doors',\n",
    "#               \"Wheel\":'wheel', 'Color':'color', 'Airbags': 'airbags', 'Turbo': \"turbo\", 'Price': 'price'}\n",
    "    \n",
    "#     data = data.rename(columns = rename_cols)\n",
    "    \n",
    "#     data.to_csv(\"data/data.csv\")\n",
    "    \n",
    "#     return data\n",
    "\n",
    "#     Fill missing values\n",
    "\n",
    "    num_cols = data.select_dtypes(exclude=\"object\").columns[1:]\n",
    "    cat_cols = data.select_dtypes(include=\"object\").columns\n",
    "    \n",
    "    imputer = SimpleImputer(strategy='median')\n",
    "    for col in num_cols:\n",
    "        data[col] = imputer.fit_transform(data[col].values.reshape(-1, 1))\n",
    "        \n",
    "    # Separate features and target\n",
    "    X = data.drop('Price', axis=1)\n",
    "    y = data['Price']\n",
    "\n",
    "#     # Apply StandardScaler to numerical columns and OneHotEncoder to categorical columns\n",
    "    preprocessor = ColumnTransformer(\n",
    "        transformers=[\n",
    "            ('num', StandardScaler(), num_cols),\n",
    "            ('cat', OneHotEncoder(), cat_cols)\n",
    "        ])\n",
    "    X_transformed = preprocessor.fit_transform(X)\n",
    "    \n",
    "#     # Get the feature names after one-hot encoding\n",
    "    feature_names = preprocessor.named_transformers_['cat'].get_feature_names_out(input_features=cat_cols)\n",
    "    feature_names = np.concatenate([num_cols, feature_names])\n",
    "    \n",
    "    return X_transformed, y, feature_names\n"
   ]
  },
  {
   "cell_type": "code",
   "execution_count": 97,
   "id": "71ce4583",
   "metadata": {
    "hideCode": false,
    "hidePrompt": false
   },
   "outputs": [],
   "source": [
    "# cleaned_data = preprocess(original_data)\n",
    "# cleaned_data"
   ]
  },
  {
   "cell_type": "code",
   "execution_count": 98,
   "id": "9bc34828",
   "metadata": {
    "hideCode": false,
    "hidePrompt": false
   },
   "outputs": [],
   "source": [
    "# cat_cols = cleaned_data.select_dtypes(include=\"object\").columns\n",
    "\n",
    "# for col in cat_cols:\n",
    "#     print(col.lower(), list(cleaned_data[col].unique()))"
   ]
  },
  {
   "cell_type": "code",
   "execution_count": 107,
   "id": "6491857e",
   "metadata": {
    "hideCode": false,
    "hidePrompt": false
   },
   "outputs": [],
   "source": [
    "# Assume that 'new_data' is a DataFrame containing your new data\n",
    "X,y,features = preprocess(original_data)"
   ]
  },
  {
   "cell_type": "code",
   "execution_count": 108,
   "id": "192a0b8a",
   "metadata": {
    "hideCode": false,
    "hidePrompt": false
   },
   "outputs": [
    {
     "data": {
      "text/plain": [
       "47"
      ]
     },
     "execution_count": 108,
     "metadata": {},
     "output_type": "execute_result"
    }
   ],
   "source": [
    "len(features)"
   ]
  },
  {
   "cell_type": "code",
   "execution_count": 109,
   "id": "fd90860b",
   "metadata": {
    "hideCode": false,
    "hidePrompt": false
   },
   "outputs": [
    {
     "name": "stdout",
     "output_type": "stream",
     "text": [
      "Root Mean Squared Error: 5277.115461257566\n",
      "R-squared: 0.806968877980063\n"
     ]
    }
   ],
   "source": [
    "from sklearn.model_selection import train_test_split\n",
    "from sklearn.ensemble import RandomForestRegressor\n",
    "from catboost import CatBoostRegressor\n",
    "from xgboost import XGBRegressor\n",
    "from sklearn.metrics import mean_squared_error, r2_score\n",
    "import numpy as np\n",
    "\n",
    "# Split the data into training and testing sets\n",
    "X_train, X_test, y_train, y_test = train_test_split(X, y, test_size=0.2, random_state=42)\n",
    "\n",
    "# Initialize the models\n",
    "model_rf = RandomForestRegressor(random_state=42)\n",
    "model_cb = CatBoostRegressor(random_seed=42, verbose=0)  # verbose=0 to turn off training output\n",
    "model_xgb = XGBRegressor(random_state=42)\n",
    "\n",
    "# Train the models\n",
    "model_rf.fit(X_train, y_train)\n",
    "model_cb.fit(X_train, y_train)\n",
    "model_xgb.fit(X_train, y_train)\n",
    "\n",
    "# Use the models to make predictions on the testing data\n",
    "y_pred_rf = model_rf.predict(X_test)\n",
    "y_pred_cb = model_cb.predict(X_test)\n",
    "y_pred_xgb = model_xgb.predict(X_test)\n",
    "\n",
    "# Combine the predictions\n",
    "y_pred_combined = (y_pred_rf + y_pred_cb + y_pred_xgb) / 3\n",
    "\n",
    "# Calculate and print the root mean squared error\n",
    "rmse = np.sqrt(mean_squared_error(y_test, y_pred_combined))\n",
    "print(f'Root Mean Squared Error: {rmse}')\n",
    "\n",
    "# Calculate and print the R-squared value\n",
    "r2 = r2_score(y_test, y_pred_combined)\n",
    "print(f'R-squared: {r2}')"
   ]
  },
  {
   "cell_type": "code",
   "execution_count": null,
   "id": "114be4f5",
   "metadata": {
    "hideCode": false,
    "hidePrompt": false
   },
   "outputs": [],
   "source": []
  }
 ],
 "metadata": {
  "celltoolbar": "Hide code",
  "hide_code_all_hidden": true,
  "kernelspec": {
   "display_name": "Python 3 (ipykernel)",
   "language": "python",
   "name": "python3"
  },
  "language_info": {
   "codemirror_mode": {
    "name": "ipython",
    "version": 3
   },
   "file_extension": ".py",
   "mimetype": "text/x-python",
   "name": "python",
   "nbconvert_exporter": "python",
   "pygments_lexer": "ipython3",
   "version": "3.9.17"
  }
 },
 "nbformat": 4,
 "nbformat_minor": 5
}
